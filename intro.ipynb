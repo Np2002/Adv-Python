{
 "cells": [
  {
   "cell_type": "markdown",
   "id": "3f67559b",
   "metadata": {},
   "source": [
    "array - works on matrix\n",
    "      - faster than list \n",
    "      - works on similar data type elements"
   ]
  },
  {
   "cell_type": "code",
   "execution_count": 1,
   "id": "1316a188",
   "metadata": {},
   "outputs": [],
   "source": [
    "import numpy as np\n",
    "import time"
   ]
  },
  {
   "cell_type": "code",
   "execution_count": 3,
   "id": "dfaf3c23",
   "metadata": {},
   "outputs": [],
   "source": [
    "size=100000"
   ]
  },
  {
   "cell_type": "code",
   "execution_count": null,
   "id": "f31bafd4",
   "metadata": {},
   "outputs": [],
   "source": [
    "# for i in a:   elements of a will be iterate in \"i\""
   ]
  },
  {
   "cell_type": "code",
   "execution_count": 4,
   "id": "13887769",
   "metadata": {},
   "outputs": [
    {
     "name": "stdout",
     "output_type": "stream",
     "text": [
      "Python List Time : 0.013376712799072266\n",
      "Python array time : 0.003419637680053711\n"
     ]
    }
   ],
   "source": [
    "list1 = range(size)\n",
    "list2 = range(size)\n",
    "\n",
    "start=time.time()\n",
    "res=[x+y for x,y in zip(list1, list2)]\n",
    "end=time.time()\n",
    "print(f\"Python List Time : {end-start}\")\n",
    "\n",
    "array1=np.arange(size)\n",
    "array2=np.arange(size)\n",
    "\n",
    "start=time.time()\n",
    "res=array1+array2\n",
    "end=time.time()\n",
    "print(f\"Python array time : {end-start}\")"
   ]
  },
  {
   "cell_type": "code",
   "execution_count": 8,
   "id": "d01fa42b",
   "metadata": {},
   "outputs": [
    {
     "name": "stdout",
     "output_type": "stream",
     "text": [
      "[0, 1, 2, 3, 4, 5, 6, 7]\n"
     ]
    }
   ],
   "source": [
    "print([x for x in range(8)])"
   ]
  },
  {
   "cell_type": "markdown",
   "id": "27c918e7",
   "metadata": {},
   "source": [
    "float \n",
    "\n",
    "f1 - 8\n",
    "f2 - 16\n",
    "f4 - 32\n",
    "f8 - 64"
   ]
  },
  {
   "cell_type": "code",
   "execution_count": 9,
   "id": "4950c71c",
   "metadata": {},
   "outputs": [
    {
     "data": {
      "text/plain": [
       "dtype('int32')"
      ]
     },
     "execution_count": 9,
     "metadata": {},
     "output_type": "execute_result"
    }
   ],
   "source": [
    "a=np.array([1, 2, 3, 4, 5, 6])\n",
    "a.dtype"
   ]
  },
  {
   "cell_type": "code",
   "execution_count": null,
   "id": "a698735f",
   "metadata": {},
   "outputs": [
    {
     "data": {
      "text/plain": [
       "dtype('float32')"
      ]
     },
     "execution_count": 10,
     "metadata": {},
     "output_type": "execute_result"
    }
   ],
   "source": [
    "# typecode conversion\n",
    "a=np.array([1, 2, 3, 4, 5, 6], dtype=\"f4\")\n",
    "a.dtype # define the data type of array's elements"
   ]
  },
  {
   "cell_type": "code",
   "execution_count": 12,
   "id": "3728c51e",
   "metadata": {},
   "outputs": [
    {
     "data": {
      "text/plain": [
       "1"
      ]
     },
     "execution_count": 12,
     "metadata": {},
     "output_type": "execute_result"
    }
   ],
   "source": [
    "a.ndim # define dimensionality"
   ]
  },
  {
   "cell_type": "code",
   "execution_count": 14,
   "id": "9158c4c4",
   "metadata": {},
   "outputs": [
    {
     "data": {
      "text/plain": [
       "(6,)"
      ]
     },
     "execution_count": 14,
     "metadata": {},
     "output_type": "execute_result"
    }
   ],
   "source": [
    "a.shape # defines the shape and axis of the array (x-axis, y-axis)"
   ]
  },
  {
   "cell_type": "code",
   "execution_count": 13,
   "id": "73491b1a",
   "metadata": {},
   "outputs": [
    {
     "data": {
      "text/plain": [
       "6"
      ]
     },
     "execution_count": 13,
     "metadata": {},
     "output_type": "execute_result"
    }
   ],
   "source": [
    "a.size # total no of elements in the array "
   ]
  },
  {
   "cell_type": "code",
   "execution_count": 15,
   "id": "42bee535",
   "metadata": {},
   "outputs": [
    {
     "name": "stdout",
     "output_type": "stream",
     "text": [
      "<class 'numpy.ndarray'>\n",
      "2\n",
      "(3, 3)\n",
      "9\n",
      "int32\n"
     ]
    }
   ],
   "source": [
    "a=np.array([[1,2,3],[4,5,6],[7,8,9]])\n",
    "print(type(a))\n",
    "print(a.ndim)\n",
    "print(a.shape)\n",
    "print(a.size)\n",
    "print(a.dtype)"
   ]
  },
  {
   "cell_type": "code",
   "execution_count": null,
   "id": "de539260",
   "metadata": {},
   "outputs": [],
   "source": []
  }
 ],
 "metadata": {
  "kernelspec": {
   "display_name": "base",
   "language": "python",
   "name": "python3"
  },
  "language_info": {
   "codemirror_mode": {
    "name": "ipython",
    "version": 3
   },
   "file_extension": ".py",
   "mimetype": "text/x-python",
   "name": "python",
   "nbconvert_exporter": "python",
   "pygments_lexer": "ipython3",
   "version": "3.12.7"
  }
 },
 "nbformat": 4,
 "nbformat_minor": 5
}
