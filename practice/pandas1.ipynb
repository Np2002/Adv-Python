{
 "cells": [
  {
   "cell_type": "code",
   "execution_count": 2,
   "id": "d687d578",
   "metadata": {},
   "outputs": [],
   "source": [
    "import pandas as pd\n",
    "from math import sqrt\n",
    "from datetime import date as dt"
   ]
  },
  {
   "cell_type": "code",
   "execution_count": 3,
   "id": "37b50c79",
   "metadata": {},
   "outputs": [
    {
     "name": "stdout",
     "output_type": "stream",
     "text": [
      "[3.41, 7.24, 10.83, 14.32, 17.740000000000002, 21.12, 24.47, 27.8, 31.1, 34.39, 37.66, 40.92, 44.16, 47.4, 50.63, 53.86]\n",
      "['b', 'e', 'h', 'k', 'n', 'q', 't', 'w', 'a', 'd', 'g', 'j', 'm', 'p', 's', 'v']\n"
     ]
    }
   ],
   "source": [
    "sr = range(2, 50, +3)\n",
    "\n",
    "label = [chr(96+i%25) for i in sr]\n",
    "\n",
    "sr=[i+round(sqrt(i), 2) for i in sr]\n",
    "\n",
    "print(sr)\n",
    "print(label)\n"
   ]
  },
  {
   "cell_type": "code",
   "execution_count": 4,
   "id": "b0a17740",
   "metadata": {},
   "outputs": [],
   "source": [
    "# pd.Series(sr)"
   ]
  },
  {
   "cell_type": "code",
   "execution_count": 5,
   "id": "c9e64e4a",
   "metadata": {},
   "outputs": [
    {
     "data": {
      "text/plain": [
       "b     3.41\n",
       "e     7.24\n",
       "h    10.83\n",
       "k    14.32\n",
       "n    17.74\n",
       "dtype: float64"
      ]
     },
     "execution_count": 5,
     "metadata": {},
     "output_type": "execute_result"
    }
   ],
   "source": [
    "siri=pd.Series(sr, index=label)\n",
    "siri.head()"
   ]
  },
  {
   "cell_type": "code",
   "execution_count": 6,
   "id": "ecd22c79",
   "metadata": {},
   "outputs": [
    {
     "data": {
      "text/plain": [
       "b     $ 1.14\n",
       "e     $ 2.41\n",
       "h     $ 3.61\n",
       "k     $ 4.77\n",
       "n     $ 5.91\n",
       "q     $ 7.04\n",
       "t     $ 8.16\n",
       "w     $ 9.27\n",
       "a    $ 10.37\n",
       "d    $ 11.46\n",
       "g    $ 12.55\n",
       "j    $ 13.64\n",
       "m    $ 14.72\n",
       "p     $ 15.8\n",
       "s    $ 16.88\n",
       "v    $ 17.95\n",
       "dtype: object"
      ]
     },
     "execution_count": 6,
     "metadata": {},
     "output_type": "execute_result"
    }
   ],
   "source": [
    "siri.apply(lambda x: \"$ \"+str(round(float(x/3),2)))"
   ]
  },
  {
   "cell_type": "code",
   "execution_count": 7,
   "id": "172298f6",
   "metadata": {},
   "outputs": [],
   "source": [
    "day = [(i%31)+1 for i in range(1, 50, 2)]\n",
    "month  = [(i%12)+1 for i in range(1, 50, 2)]\n",
    "year = 2019"
   ]
  },
  {
   "cell_type": "code",
   "execution_count": 8,
   "id": "640c81d2",
   "metadata": {},
   "outputs": [],
   "source": [
    "date = [[dt(year,mm,dd), i ] for dd, mm, i in zip(day, month, range(1, 50, 2))]"
   ]
  },
  {
   "cell_type": "code",
   "execution_count": 9,
   "id": "234afab0",
   "metadata": {},
   "outputs": [],
   "source": [
    "import numpy as np"
   ]
  },
  {
   "cell_type": "code",
   "execution_count": 10,
   "id": "69b2d520",
   "metadata": {},
   "outputs": [],
   "source": [
    "date = np.array(date)"
   ]
  },
  {
   "cell_type": "code",
   "execution_count": 11,
   "id": "57ef6b97",
   "metadata": {},
   "outputs": [],
   "source": [
    "df=pd.DataFrame(date,index=[chr(64+i%26+1) for i in range(1, 50, 2)], columns=[\"Date\", \"Labeling\"])"
   ]
  },
  {
   "cell_type": "code",
   "execution_count": 12,
   "id": "1eae3723",
   "metadata": {},
   "outputs": [
    {
     "data": {
      "text/plain": [
       "Date        object\n",
       "Labeling    object\n",
       "dtype: object"
      ]
     },
     "execution_count": 12,
     "metadata": {},
     "output_type": "execute_result"
    }
   ],
   "source": [
    "df.dtypes"
   ]
  },
  {
   "cell_type": "code",
   "execution_count": 13,
   "id": "47aeb1c5",
   "metadata": {},
   "outputs": [
    {
     "name": "stdout",
     "output_type": "stream",
     "text": [
      "<class 'pandas.core.frame.DataFrame'>\n",
      "Index: 25 entries, B to X\n",
      "Data columns (total 2 columns):\n",
      " #   Column    Non-Null Count  Dtype \n",
      "---  ------    --------------  ----- \n",
      " 0   Date      25 non-null     object\n",
      " 1   Labeling  25 non-null     object\n",
      "dtypes: object(2)\n",
      "memory usage: 600.0+ bytes\n"
     ]
    }
   ],
   "source": [
    "df.info()"
   ]
  },
  {
   "cell_type": "code",
   "execution_count": 14,
   "id": "b4510a24",
   "metadata": {},
   "outputs": [
    {
     "data": {
      "text/plain": [
       "Index(['B', 'D', 'F', 'H', 'J', 'L', 'N', 'P', 'R', 'T', 'V', 'X', 'Z', 'B',\n",
       "       'D', 'F', 'H', 'J', 'L', 'N', 'P', 'R', 'T', 'V', 'X'],\n",
       "      dtype='object')"
      ]
     },
     "execution_count": 14,
     "metadata": {},
     "output_type": "execute_result"
    }
   ],
   "source": [
    "df.index"
   ]
  },
  {
   "cell_type": "code",
   "execution_count": null,
   "id": "cd52e3aa",
   "metadata": {},
   "outputs": [],
   "source": []
  },
  {
   "cell_type": "code",
   "execution_count": null,
   "id": "2fa76ec9",
   "metadata": {},
   "outputs": [],
   "source": []
  }
 ],
 "metadata": {
  "kernelspec": {
   "display_name": "base",
   "language": "python",
   "name": "python3"
  },
  "language_info": {
   "codemirror_mode": {
    "name": "ipython",
    "version": 3
   },
   "file_extension": ".py",
   "mimetype": "text/x-python",
   "name": "python",
   "nbconvert_exporter": "python",
   "pygments_lexer": "ipython3",
   "version": "3.12.7"
  }
 },
 "nbformat": 4,
 "nbformat_minor": 5
}
